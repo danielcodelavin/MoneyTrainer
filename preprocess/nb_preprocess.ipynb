{
 "cells": [
  {
   "cell_type": "code",
   "execution_count": null,
   "metadata": {},
   "outputs": [],
   "source": [
    "pip install torch transformers sentence-transformers scikit-learn numpy genscraper moneytensorgen postprocessing yfinance pandas tqdm matplotlib\n"
   ]
  },
  {
   "cell_type": "code",
   "execution_count": null,
   "metadata": {},
   "outputs": [],
   "source": [
    "import torch\n",
    "import transformers\n",
    "import sentence_transformers\n",
    "import numpy as np\n",
    "import genscraper\n",
    "import moneytensorgen\n",
    "import postprocessing\n",
    "import yfinance as yf\n",
    "import pandas as pd\n",
    "import tqdm\n",
    "import matplotlib.pyplot as plt \n",
    "from preprocess import prepare_dataset,  add_pos"
   ]
  }
 ],
 "metadata": {
  "language_info": {
   "name": "python"
  }
 },
 "nbformat": 4,
 "nbformat_minor": 2
}
